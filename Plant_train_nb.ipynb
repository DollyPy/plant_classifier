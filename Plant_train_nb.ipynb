{
 "cells": [
  {
   "cell_type": "markdown",
   "id": "afe60e86",
   "metadata": {},
   "source": [
    "## Crops\n",
    "- Apple\n",
    "- Corn\n",
    "- Grape\n",
    "- Pepper\n",
    "- Potato\n",
    "- Tomato\n",
    "\n",
    "## Class Codes\n",
    "- Apple_Healthy\n",
    "- Apple_Apple_Scab\n",
    "- Apple_Black_rot \n",
    "- Apple_Cedar_Apple_rust \n",
    "- Corn_healthy \n",
    "- Corn_Cercospora_leaf_spot \n",
    "- Corn_Common_rust\n",
    "- Corn_Northern_Leaf_Blight\n",
    "- Grape_Healthy\n",
    "- Grape_Esca\n",
    "- Grape_Leaf_Blight\n",
    "- Pepper_Healthy\n",
    "- Pepper_Bacterial_Spot\n",
    "- Potato_Healthy\n",
    "- Potato_Early_Blight\n",
    "- Potato_Late_Blight\n",
    "- Tomato_Healthy\n",
    "- Tomato_Early_blight\n",
    "- Tomato_Leaf_mold\n",
    "- Tomato_Mosaic_Virus\n",
    "- Grape_black_rut"
   ]
  },
  {
   "cell_type": "code",
   "execution_count": 7,
   "id": "53d2b189",
   "metadata": {},
   "outputs": [],
   "source": [
    "# TensorFlow and tf.keras\n",
    "import tensorflow as tf\n",
    "from tensorflow.keras import layers, models\n",
    "from tensorflow.keras.preprocessing.image import load_img, img_to_array\n",
    "\n",
    "# Helper libraries\n",
    "import pandas as pd\n",
    "import numpy as np\n",
    "import matplotlib.pyplot as plt\n",
    "\n",
    "import os\n",
    "from sklearn.model_selection import train_test_split\n",
    "\n",
    "from sklearn.metrics import classification_report, confusion_matrix\n",
    "import cv2"
   ]
  },
  {
   "cell_type": "code",
   "execution_count": 10,
   "id": "13e9ec45",
   "metadata": {},
   "outputs": [],
   "source": [
    "def confusion_matrix_visual(y_test, pred_test,model):\n",
    "    cm = confusion_matrix(y_test, pred_test)\n",
    "    plt.clf()\n",
    "    plt.imshow(cm, interpolation='nearest', cmap=\"Reds\")\n",
    "    plt.title(f'Confusion Matrix - Maize Classification {model}-model')\n",
    "    plt.ylabel('True label')\n",
    "    plt.xlabel('Predicted label')\n",
    "    ticks = np.arange(len(categoryNames))\n",
    "    plt.xticks(ticks, categoryNames, rotation=45)\n",
    "    plt.yticks(ticks, categoryNames)\n",
    "    plt.show()\n",
    "    \n",
    "    print(f'Classification Report - Maize Classification {model}-model')\n",
    "    print(classification_report(y_test,pred_test))\n",
    "\n",
    "\n",
    "def read_data():\n",
    "    \"\"\"\n",
    "    Reads Image Files from Current Working Directory\n",
    "    and returns A list of paths to each image and their CLass names\n",
    "    \n",
    "    \"\"\"\n",
    "    root_dir = os.path.join(os.getcwd(), \"Data\\\\\")\n",
    "    class_names = []\n",
    "    paths = []\n",
    "    for folder in os.listdir(root_dir):\n",
    "        subdir = os.path.join(root_dir, f\"{folder}\\\\\")\n",
    "        for eachfile in os.listdir(subdir):\n",
    "            class_names.append(int(folder))\n",
    "            paths.append(os.path.join(subdir, f\"{eachfile}\"))\n",
    "\n",
    "    return paths, class_names\n",
    "\n",
    "def process_img():\n",
    "    \"\"\"\n",
    "    Takes in the paths and tags from the read_data module and \n",
    "    process the image by\n",
    "    1. Loading the Image\n",
    "    2. Converting the Image Object to Array\n",
    "    3. Normalizing over the image  by dividing by 255 which is the max obtaining value for the color code\n",
    "    It returns a numpy array of images and tags\n",
    "    \"\"\"\n",
    "    paths, tags = read_data()\n",
    "    images = []\n",
    "    for i in range(len(paths)):\n",
    "        image = cv2.imread(paths[i])\n",
    "        image = cv2.resize(image, (100, 100)).flatten()\n",
    "        images.append(image)\n",
    "    \n",
    "    data = np.array(images, dtype=\"uint8\") / 255.0\n",
    "    \n",
    "    tags = np.array(tags)\n",
    "    return(data, tags)\n",
    "\n",
    "def plot_metrics(X,y_main,model, model_type=\"CNN\"):\n",
    "    y_pred = model.predict(X)\n",
    "    y_pred_list = [np.where(y_pred[i]== max(y_pred[i]))[0][0] for i in range(y_pred.shape[0]) ]\n",
    "    \n",
    "    confusion_matrix_visual(y_main,y_pred_list,model_type)\n"
   ]
  },
  {
   "cell_type": "code",
   "execution_count": null,
   "id": "d620c761",
   "metadata": {},
   "outputs": [],
   "source": [
    "X_pan, y_pan = process_img()"
   ]
  },
  {
   "cell_type": "code",
   "execution_count": 3,
   "id": "ddb15f07",
   "metadata": {},
   "outputs": [],
   "source": [
    "X, y = process_img()\n",
    "train_images,  test_images,train_labels, test_labels = train_test_split(X,y, test_size=0.3)"
   ]
  },
  {
   "cell_type": "code",
   "execution_count": 4,
   "id": "ed572419",
   "metadata": {},
   "outputs": [
    {
     "name": "stdout",
     "output_type": "stream",
     "text": [
      "13850\n"
     ]
    }
   ],
   "source": [
    "print(len(y))"
   ]
  },
  {
   "cell_type": "code",
   "execution_count": 5,
   "id": "f8a8f66f",
   "metadata": {},
   "outputs": [
    {
     "name": "stdout",
     "output_type": "stream",
     "text": [
      "Model: \"sequential\"\n",
      "_________________________________________________________________\n",
      " Layer (type)                Output Shape              Param #   \n",
      "=================================================================\n",
      " conv2d (Conv2D)             (None, 254, 254, 32)      896       \n",
      "                                                                 \n",
      " max_pooling2d (MaxPooling2D  (None, 127, 127, 32)     0         \n",
      " )                                                               \n",
      "                                                                 \n",
      " conv2d_1 (Conv2D)           (None, 125, 125, 64)      18496     \n",
      "                                                                 \n",
      " max_pooling2d_1 (MaxPooling  (None, 62, 62, 64)       0         \n",
      " 2D)                                                             \n",
      "                                                                 \n",
      " conv2d_2 (Conv2D)           (None, 60, 60, 64)        36928     \n",
      "                                                                 \n",
      " flatten (Flatten)           (None, 230400)            0         \n",
      "                                                                 \n",
      " dense (Dense)               (None, 64)                14745664  \n",
      "                                                                 \n",
      " dense_1 (Dense)             (None, 21)                1365      \n",
      "                                                                 \n",
      "=================================================================\n",
      "Total params: 14,803,349\n",
      "Trainable params: 14,803,349\n",
      "Non-trainable params: 0\n",
      "_________________________________________________________________\n"
     ]
    }
   ],
   "source": [
    "model = models.Sequential()\n",
    "model.add(layers.Conv2D(32, (3, 3), activation='relu', input_shape=(256, 256, 3)))\n",
    "model.add(layers.MaxPooling2D((2, 2)))\n",
    "model.add(layers.Conv2D(64, (3, 3), activation='relu'))\n",
    "model.add(layers.MaxPooling2D((2, 2)))\n",
    "\n",
    "model.add(layers.Conv2D(64, (3, 3), activation='relu'))\n",
    "model.add(layers.Flatten())\n",
    "model.add(layers.Dense(64, activation='relu'))\n",
    "model.add(layers.Dense(21))\n",
    "\n",
    "model.summary()"
   ]
  },
  {
   "cell_type": "code",
   "execution_count": 6,
   "id": "b6afebe7",
   "metadata": {
    "scrolled": true
   },
   "outputs": [
    {
     "name": "stdout",
     "output_type": "stream",
     "text": [
      "Epoch 1/10\n",
      "303/303 [==============================] - 3385s 11s/step - loss: 1.5629 - accuracy: 0.5323 - val_loss: 0.9880 - val_accuracy: 0.6842\n",
      "Epoch 2/10\n",
      "303/303 [==============================] - 3711s 12s/step - loss: 0.6309 - accuracy: 0.7876 - val_loss: 0.8502 - val_accuracy: 0.7329\n",
      "Epoch 3/10\n",
      "303/303 [==============================] - 3803s 13s/step - loss: 0.3255 - accuracy: 0.8912 - val_loss: 0.8714 - val_accuracy: 0.7473\n",
      "Epoch 4/10\n",
      "303/303 [==============================] - 3770s 12s/step - loss: 0.1830 - accuracy: 0.9397 - val_loss: 0.6503 - val_accuracy: 0.8245\n",
      "Epoch 5/10\n",
      "303/303 [==============================] - 3656s 12s/step - loss: 0.1338 - accuracy: 0.9549 - val_loss: 0.6841 - val_accuracy: 0.8205\n",
      "Epoch 6/10\n",
      "303/303 [==============================] - 3829s 13s/step - loss: 0.0903 - accuracy: 0.9696 - val_loss: 0.7572 - val_accuracy: 0.8284\n",
      "Epoch 7/10\n",
      "303/303 [==============================] - 3883s 13s/step - loss: 0.1067 - accuracy: 0.9668 - val_loss: 1.1136 - val_accuracy: 0.7884\n",
      "Epoch 8/10\n",
      "303/303 [==============================] - 3821s 13s/step - loss: 0.0477 - accuracy: 0.9850 - val_loss: 0.8572 - val_accuracy: 0.8332\n",
      "Epoch 9/10\n",
      "303/303 [==============================] - 3826s 13s/step - loss: 0.0650 - accuracy: 0.9811 - val_loss: 0.9649 - val_accuracy: 0.7957\n",
      "Epoch 10/10\n",
      "303/303 [==============================] - 4055s 13s/step - loss: 0.0744 - accuracy: 0.9769 - val_loss: 1.1187 - val_accuracy: 0.7702\n"
     ]
    },
    {
     "data": {
      "text/plain": [
       "<keras.callbacks.History at 0x2327f40a070>"
      ]
     },
     "execution_count": 6,
     "metadata": {},
     "output_type": "execute_result"
    }
   ],
   "source": [
    "model.compile(optimizer='adam',\n",
    "              loss=tf.keras.losses.SparseCategoricalCrossentropy(from_logits=True),\n",
    "              metrics=['accuracy'])\n",
    "\n",
    "model.fit(train_images, train_labels, epochs=10, validation_data=(test_images, test_labels))"
   ]
  },
  {
   "cell_type": "code",
   "execution_count": null,
   "id": "485dab1a",
   "metadata": {},
   "outputs": [],
   "source": [
    "plt.figure(figsize = [10,8])\n",
    "plt.plot(model.history.history[\"loss\"], label=\"train_loss\")\n",
    "plt.plot(model.history.history[\"val_loss\"], label=\"val_loss\")\n",
    "plt.title(\"Training & Validation Loss (CNN)\")\n",
    "plt.xlabel(\"Epoch #\", weight=\"bold\")\n",
    "plt.ylabel(\"Loss\", weight=\"bold\")\n",
    "plt.legend()\n",
    "plt.savefig(\"trainingdataloss(CNN).jpg\")\n",
    "plt.show()"
   ]
  },
  {
   "cell_type": "code",
   "execution_count": null,
   "id": "e3b571f3",
   "metadata": {},
   "outputs": [],
   "source": [
    "# plot the training and validation accuracy\n",
    "plt.figure(figsize = [10,8])\n",
    "plt.plot(model.history.history[\"accuracy\"], label=\"train_acc\")\n",
    "plt.plot(model.history.history[\"val_accuracy\"], label=\"val_acc\")\n",
    "plt.title(\"Training and Validation Accuracy (CNN)\")\n",
    "plt.xlabel(\"Epoch #\", weight=\"bold\")\n",
    "plt.ylabel(\"Accuracy\", weight=\"bold\")\n",
    "plt.legend()\n",
    "plt.savefig(\"trainingdataAccuracy(CNN).png\")\n",
    "plt.show()"
   ]
  },
  {
   "cell_type": "raw",
   "id": "962a6949",
   "metadata": {},
   "source": [
    "def make_pred(image_path):\n",
    "    image = []\n",
    "    for images in image_path:\n",
    "        image.append(img_to_array(load_img(images))/255)\n",
    "    obj_class = np.argmax(model.predict(np.asarray(image)), axis=1)\n",
    "    return obj_class\n",
    "    #return image_path.split(\".\")[0][-4: obj_class, class_codes[obj_class]\n",
    "\n",
    "# for each_img in pred_img:\n",
    "#     print(make_pred(each_img))\n",
    "\n",
    "y_pred = make_pred(pred_img)"
   ]
  },
  {
   "cell_type": "code",
   "execution_count": 44,
   "id": "bb7b4a28",
   "metadata": {
    "scrolled": true
   },
   "outputs": [
    {
     "name": "stdout",
     "output_type": "stream",
     "text": [
      "              precision    recall  f1-score   support\n",
      "\n",
      "           0       0.57      0.80      0.67         5\n",
      "           1       1.00      0.40      0.57         5\n",
      "           2       1.00      0.60      0.75         5\n",
      "           3       1.00      0.80      0.89         5\n",
      "          12       0.00      0.00      0.00         0\n",
      "          16       0.00      0.00      0.00         0\n",
      "          18       0.00      0.00      0.00         0\n",
      "          20       0.00      0.00      0.00         0\n",
      "\n",
      "    accuracy                           0.65        20\n",
      "   macro avg       0.45      0.33      0.36        20\n",
      "weighted avg       0.89      0.65      0.72        20\n",
      "\n"
     ]
    },
    {
     "name": "stderr",
     "output_type": "stream",
     "text": [
      "C:\\Users\\DANIEL\\anaconda3\\lib\\site-packages\\sklearn\\metrics\\_classification.py:1327: UndefinedMetricWarning: Recall and F-score are ill-defined and being set to 0.0 in labels with no true samples. Use `zero_division` parameter to control this behavior.\n",
      "  _warn_prf(average, modifier, msg_start, len(result))\n",
      "C:\\Users\\DANIEL\\anaconda3\\lib\\site-packages\\sklearn\\metrics\\_classification.py:1327: UndefinedMetricWarning: Recall and F-score are ill-defined and being set to 0.0 in labels with no true samples. Use `zero_division` parameter to control this behavior.\n",
      "  _warn_prf(average, modifier, msg_start, len(result))\n",
      "C:\\Users\\DANIEL\\anaconda3\\lib\\site-packages\\sklearn\\metrics\\_classification.py:1327: UndefinedMetricWarning: Recall and F-score are ill-defined and being set to 0.0 in labels with no true samples. Use `zero_division` parameter to control this behavior.\n",
      "  _warn_prf(average, modifier, msg_start, len(result))\n"
     ]
    }
   ],
   "source": [
    "# evaluate the network\n",
    "print(\"[Classification Report] evaluating Convolutional Neural Network Using Test Data...\")\n",
    "predictions = model.predict(test_images, batch_size=32)\n",
    "print(classification_report(testY.argmax(axis=1), predictions.argmax(axis=1)))#, target_names=lb.classes_))"
   ]
  },
  {
   "cell_type": "code",
   "execution_count": 7,
   "id": "9fc7fe94",
   "metadata": {},
   "outputs": [],
   "source": [
    "class_codes={\n",
    "    0:\"Apple_Healthy\", 1:\"Apple_Scab\", 2:\"Apple_Black_rot\", 3:\"Apple_Cedar_rust\", \n",
    "    4:\"Corn_Healthy\", 5:\"Corn_Cercospora_leaf\", 6:\"Corn_Common_rust\", 7:\"Corn_Northern_Leaf_Blight\",\n",
    "    8:\"Grape_Healthy\", 20:\"Grape_Black_Rut\", 9:\"Esca\",10:\"Grape_Blight\",\n",
    "    1`:\"Pepper_Healthy\", 12:\"Pepper_Bacterial_Spot\",\n",
    "    13:\"Potato_Healthy\", 14:\"Potato_Early_Blight\",15:\"Potato_Late_Blight\",\n",
    "    16:\"Tomato_Healthy\", 17:\"Tomato_Early_Blight\", 18:\"Tomato_Leaf_Mold\",19:\"Tomato_Mosaic_virus\"\n",
    "}"
   ]
  },
  {
   "cell_type": "code",
   "execution_count": 8,
   "id": "2624fca3",
   "metadata": {},
   "outputs": [
    {
     "name": "stdout",
     "output_type": "stream",
     "text": [
      "INFO:tensorflow:Assets written to: ./data/LeafModel\\assets\n"
     ]
    }
   ],
   "source": [
    "model.save(\"./models/LeafModel\")"
   ]
  },
  {
   "cell_type": "code",
   "execution_count": 16,
   "id": "34a75a46",
   "metadata": {},
   "outputs": [
    {
     "data": {
      "text/plain": [
       "dict_keys(['loss', 'accuracy', 'val_loss', 'val_accuracy'])"
      ]
     },
     "execution_count": 16,
     "metadata": {},
     "output_type": "execute_result"
    }
   ],
   "source": [
    "model.history.history[\"loss\"]"
   ]
  },
  {
   "cell_type": "code",
   "execution_count": 33,
   "id": "d4b537bd",
   "metadata": {},
   "outputs": [
    {
     "data": {
      "image/png": "[encoded data removed]",
      "text/plain": [
       "<Figure size 640x480 with 1 Axes>"
      ]
     },
     "metadata": {},
     "output_type": "display_data"
    }
   ],
   "source": [
    "plt.plot(model.history.history[\"loss\"], label=\"Training Loss\")\n",
    "plt.title(\"Training Metrics (Loss)\")\n",
    "plt.xlabel(\"Epochs\")\n",
    "plt.ylabel(\"Values\")\n",
    "plt.legend()\n",
    "plt.show()"
   ]
  },
  {
   "cell_type": "code",
   "execution_count": 34,
   "id": "9cbf1b07",
   "metadata": {},
   "outputs": [
    {
     "data": {
      "image/png": "[encoded data removed]",
      "text/plain": [
       "<Figure size 640x480 with 1 Axes>"
      ]
     },
     "metadata": {},
     "output_type": "display_data"
    }
   ],
   "source": [
    "plt.plot(model.history.history[\"accuracy\"], label=\"Training Accuracy\")\n",
    "plt.title(\"Training Metrics (Accuracy)\")\n",
    "plt.xlabel(\"Epochs\")\n",
    "plt.ylabel(\"Values\")\n",
    "plt.legend()\n",
    "plt.show()"
   ]
  },
  {
   "cell_type": "code",
   "execution_count": 37,
   "id": "5b5c513b",
   "metadata": {},
   "outputs": [],
   "source": [
    "pred_path = os.path.join(os.getcwd(),\"pred_set\")\n",
    "pred_class = [0,0,0,0,0,1,1,1,1,1,2,2,2,2,2,3,3,3,3,3]\n",
    "pred_img = []\n",
    "for eachone in os.listdir(pred_path):\n",
    "    pred_img.append(os.path.join(pred_path,eachone))"
   ]
  },
  {
   "cell_type": "code",
   "execution_count": null,
   "id": "6d851d73",
   "metadata": {},
   "outputs": [],
   "source": [
    "pro_images = []\n",
    "for eachone in pred_img:\n",
    "    pro_images.append(img_to_array(load_img(eachone))/255)"
   ]
  },
  {
   "cell_type": "code",
   "execution_count": null,
   "id": "7e395469",
   "metadata": {},
   "outputs": [],
   "source": [
    "pro_images = np.asarray(pro_images)\n",
    "pred_class = np.asarray(pred_class)"
   ]
  },
  {
   "cell_type": "code",
   "execution_count": null,
   "id": "ffe7eb9f",
   "metadata": {},
   "outputs": [],
   "source": [
    "test_pred = np.argmax(model.predict(pro_images[0:1]))\n",
    "test_pred"
   ]
  },
  {
   "cell_type": "code",
   "execution_count": null,
   "id": "c23cb074",
   "metadata": {},
   "outputs": [],
   "source": [
    "print(classification_report(pred_class, test_pred))"
   ]
  },
  {
   "cell_type": "code",
   "execution_count": null,
   "id": "256814ac",
   "metadata": {},
   "outputs": [],
   "source": [
    "load_img(paths[5])"
   ]
  },
  {
   "cell_type": "code",
   "execution_count": null,
   "id": "33189900",
   "metadata": {},
   "outputs": [],
   "source": [
    "#Normalize the image\n",
    "images = np.array(images)"
   ]
  },
  {
   "cell_type": "code",
   "execution_count": null,
   "id": "f66c3808",
   "metadata": {},
   "outputs": [],
   "source": [
    "images.shape"
   ]
  },
  {
   "cell_type": "code",
   "execution_count": null,
   "id": "bcfee156",
   "metadata": {},
   "outputs": [],
   "source": [
    "len(train_ims)"
   ]
  },
  {
   "cell_type": "code",
   "execution_count": null,
   "id": "2ec42804",
   "metadata": {
    "scrolled": true
   },
   "outputs": [],
   "source": [
    "fig=plt.figure(figsize=(10, 10))\n",
    "img = cv2.imread(paths[199])\n",
    "#print(image_files[i], img)\n",
    "fig.add_subplot(1, 1,1)\n",
    "plt.imshow(img)"
   ]
  },
  {
   "cell_type": "code",
   "execution_count": 3,
   "id": "0c37b0c3",
   "metadata": {},
   "outputs": [],
   "source": [
    "model = models.load_model(\"./models/LeafModel\")"
   ]
  },
  {
   "cell_type": "code",
   "execution_count": 4,
   "id": "acb361cc",
   "metadata": {},
   "outputs": [],
   "source": [
    "model.save(\"leaf.h5\")"
   ]
  },
  {
   "cell_type": "code",
   "execution_count": null,
   "id": "9a640150",
   "metadata": {},
   "outputs": [],
   "source": []
  }
 ],
 "metadata": {
  "kernelspec": {
   "display_name": "Python 3 (ipykernel)",
   "language": "python",
   "name": "python3"
  },
  "language_info": {
   "codemirror_mode": {
    "name": "ipython",
    "version": 3
   },
   "file_extension": ".py",
   "mimetype": "text/x-python",
   "name": "python",
   "nbconvert_exporter": "python",
   "pygments_lexer": "ipython3",
   "version": "3.9.12"
  }
 },
 "nbformat": 4,
 "nbformat_minor": 5
}
